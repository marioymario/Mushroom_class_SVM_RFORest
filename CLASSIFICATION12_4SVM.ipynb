{
  "nbformat": 4,
  "nbformat_minor": 0,
  "metadata": {
    "colab": {
      "name": "CLASSIFICATION12.4SVM.ipynb",
      "provenance": [],
      "collapsed_sections": []
    },
    "kernelspec": {
      "name": "python3",
      "display_name": "Python 3"
    }
  },
  "cells": [
    {
      "cell_type": "markdown",
      "metadata": {
        "id": "-d-O9TRic4NG"
      },
      "source": [
        "![mushroorms.jfif](data:image/jpeg;base64,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)"
      ]
    },
    {
      "cell_type": "markdown",
      "metadata": {
        "id": "VrFDnDOedF7O"
      },
      "source": [
        "\n",
        "# The scenario\n",
        "\n",
        "Poisonous mushrooms contain a variety of different toxins that can differ markedly in toxicity. Symptoms of mushroom poisoning may vary from gastric upset to organ failure resulting in death. \n",
        "this is the first step from my end to try to make a model that will atempt to classify as edible or not edible a mushroom based on its caracteristics.\n",
        "the pourpouse is entirelly theorical and not recomended to base eating mushrooms decisions.  \n",
        "\n",
        "# The Data Set\n",
        "Mushroom records drawn from The Audubon Society Field Guide to North American Mushrooms (1981). G. H. Lincoff (Pres.), New York: Alfred A. Knopf\n",
        "It Samples corresponding to 23 species of gilled mushrooms in the Agaricus and Lepiota Family Mushroom drawn from The Audubon Society Field Guide to North American Mushrooms (1981). \n",
        "Each species is identified as definitely edible, definitely poisonous, or of unknown edibility and not recommended. \n",
        "This latter class was combined with the poisonous one. \n",
        "The Guide clearly states that there is no simple rule for determining the edibility of a mushroom.\n",
        "Please do not use for cooking at home with wild mushrooms . The objective is to evaluate the best model, thanks.\n",
        "\n",
        "\n",
        "# Steps\n",
        "\n",
        "We will load the database from,  \n",
        "https://archive.ics.uci.edu/ml/datasets/mushroom. Then\n",
        "Do data cleaning, exploratory data analysis, and \n",
        "feature engineering.\n",
        "\n",
        "WE will be spliting the data\n",
        "20/80\n",
        "we will\n",
        "Build a couple Classification models and select the one that seems\n",
        "to have better preformance, thru evaluations methods.\n",
        "Thanks and please forgive any typo.\n",
        "\n"
      ]
    },
    {
      "cell_type": "code",
      "metadata": {
        "id": "Piy0rhrfuoLI"
      },
      "source": [
        "from time import time\n",
        "import pandas as pd\n",
        "import numpy as np\n",
        "from scipy import stats\n",
        "import matplotlib.pyplot as plt\n",
        "import seaborn as sns\n",
        "from sklearn.model_selection import train_test_split\n",
        "from sklearn.metrics import confusion_matrix, precision_score, recall_score\n",
        "from sklearn.metrics import confusion_matrix, accuracy_score\n",
        "from sklearn.decomposition import PCA \n",
        "from sklearn.preprocessing import scale  \n",
        "from sklearn.model_selection import GridSearchCV \n",
        "from sklearn.metrics import classification_report\n",
        "from sklearn.metrics import plot_confusion_matrix, accuracy_score\n",
        "from sklearn.preprocessing import LabelEncoder\n",
        "from sklearn.svm import SVC\n",
        "from sklearn import svm\n",
        "import itertools"
      ],
      "execution_count": null,
      "outputs": []
    },
    {
      "cell_type": "code",
      "metadata": {
        "id": "eWpFA_ISee-F"
      },
      "source": [
        "df_raw = pd.read_csv('https://archive.ics.uci.edu/ml/machine-learning-databases/mushroom/agaricus-lepiota.data',header=None)\n",
        "df_raw = df_raw.sample(frac=1)\n",
        "df_raw.columns = \t['target',\t'cap-shape',\t'cap-surface',\t'cap-color',\t'bruises',\t'odor',\t'gill-attachment',\t'gill-spacing',\n",
        "               'gill-size',\t'gill-color', 'stalk-shape', 'stalk-root',\t'stalk-surface-above-ring',\t'stalk-surface-below-ring', 'stalk-color-above-ring',\t\n",
        "               'stalk-color-below-ring', 'veil_tipo',\t'veil-color', 'ring-number',\t'ring-type',\t'spore-print-color',\t'population',\t'habitat']\n"
      ],
      "execution_count": null,
      "outputs": []
    },
    {
      "cell_type": "code",
      "metadata": {
        "id": "Dn7yKFqlvyiG"
      },
      "source": [
        "###EDA, looking for missing values, and understanding of the Classes per columns."
      ],
      "execution_count": null,
      "outputs": []
    },
    {
      "cell_type": "code",
      "metadata": {
        "colab": {
          "base_uri": "https://localhost:8080/",
          "height": 273
        },
        "id": "uRGtH6wkfYiO",
        "outputId": "47966ac2-a6f3-49b4-b4df-4edfd0a353a2"
      },
      "source": [
        "df_raw.head()"
      ],
      "execution_count": null,
      "outputs": [
        {
          "output_type": "execute_result",
          "data": {
            "text/html": [
              "<div>\n",
              "<style scoped>\n",
              "    .dataframe tbody tr th:only-of-type {\n",
              "        vertical-align: middle;\n",
              "    }\n",
              "\n",
              "    .dataframe tbody tr th {\n",
              "        vertical-align: top;\n",
              "    }\n",
              "\n",
              "    .dataframe thead th {\n",
              "        text-align: right;\n",
              "    }\n",
              "</style>\n",
              "<table border=\"1\" class=\"dataframe\">\n",
              "  <thead>\n",
              "    <tr style=\"text-align: right;\">\n",
              "      <th></th>\n",
              "      <th>target</th>\n",
              "      <th>cap-shape</th>\n",
              "      <th>cap-surface</th>\n",
              "      <th>cap-color</th>\n",
              "      <th>bruises</th>\n",
              "      <th>odor</th>\n",
              "      <th>gill-attachment</th>\n",
              "      <th>gill-spacing</th>\n",
              "      <th>gill-size</th>\n",
              "      <th>gill-color</th>\n",
              "      <th>stalk-shape</th>\n",
              "      <th>stalk-root</th>\n",
              "      <th>stalk-surface-above-ring</th>\n",
              "      <th>stalk-surface-below-ring</th>\n",
              "      <th>stalk-color-above-ring</th>\n",
              "      <th>stalk-color-below-ring</th>\n",
              "      <th>veil_tipo</th>\n",
              "      <th>veil-color</th>\n",
              "      <th>ring-number</th>\n",
              "      <th>ring-type</th>\n",
              "      <th>spore-print-color</th>\n",
              "      <th>population</th>\n",
              "      <th>habitat</th>\n",
              "    </tr>\n",
              "  </thead>\n",
              "  <tbody>\n",
              "    <tr>\n",
              "      <th>4972</th>\n",
              "      <td>p</td>\n",
              "      <td>x</td>\n",
              "      <td>f</td>\n",
              "      <td>y</td>\n",
              "      <td>f</td>\n",
              "      <td>f</td>\n",
              "      <td>f</td>\n",
              "      <td>c</td>\n",
              "      <td>b</td>\n",
              "      <td>p</td>\n",
              "      <td>e</td>\n",
              "      <td>b</td>\n",
              "      <td>k</td>\n",
              "      <td>k</td>\n",
              "      <td>b</td>\n",
              "      <td>n</td>\n",
              "      <td>p</td>\n",
              "      <td>w</td>\n",
              "      <td>o</td>\n",
              "      <td>l</td>\n",
              "      <td>h</td>\n",
              "      <td>y</td>\n",
              "      <td>p</td>\n",
              "    </tr>\n",
              "    <tr>\n",
              "      <th>6196</th>\n",
              "      <td>p</td>\n",
              "      <td>x</td>\n",
              "      <td>s</td>\n",
              "      <td>e</td>\n",
              "      <td>f</td>\n",
              "      <td>s</td>\n",
              "      <td>f</td>\n",
              "      <td>c</td>\n",
              "      <td>n</td>\n",
              "      <td>b</td>\n",
              "      <td>t</td>\n",
              "      <td>?</td>\n",
              "      <td>k</td>\n",
              "      <td>s</td>\n",
              "      <td>p</td>\n",
              "      <td>w</td>\n",
              "      <td>p</td>\n",
              "      <td>w</td>\n",
              "      <td>o</td>\n",
              "      <td>e</td>\n",
              "      <td>w</td>\n",
              "      <td>v</td>\n",
              "      <td>d</td>\n",
              "    </tr>\n",
              "    <tr>\n",
              "      <th>3980</th>\n",
              "      <td>p</td>\n",
              "      <td>f</td>\n",
              "      <td>y</td>\n",
              "      <td>g</td>\n",
              "      <td>f</td>\n",
              "      <td>f</td>\n",
              "      <td>f</td>\n",
              "      <td>c</td>\n",
              "      <td>b</td>\n",
              "      <td>p</td>\n",
              "      <td>e</td>\n",
              "      <td>b</td>\n",
              "      <td>k</td>\n",
              "      <td>k</td>\n",
              "      <td>b</td>\n",
              "      <td>n</td>\n",
              "      <td>p</td>\n",
              "      <td>w</td>\n",
              "      <td>o</td>\n",
              "      <td>l</td>\n",
              "      <td>h</td>\n",
              "      <td>v</td>\n",
              "      <td>g</td>\n",
              "    </tr>\n",
              "    <tr>\n",
              "      <th>813</th>\n",
              "      <td>p</td>\n",
              "      <td>x</td>\n",
              "      <td>y</td>\n",
              "      <td>w</td>\n",
              "      <td>t</td>\n",
              "      <td>p</td>\n",
              "      <td>f</td>\n",
              "      <td>c</td>\n",
              "      <td>n</td>\n",
              "      <td>w</td>\n",
              "      <td>e</td>\n",
              "      <td>e</td>\n",
              "      <td>s</td>\n",
              "      <td>s</td>\n",
              "      <td>w</td>\n",
              "      <td>w</td>\n",
              "      <td>p</td>\n",
              "      <td>w</td>\n",
              "      <td>o</td>\n",
              "      <td>p</td>\n",
              "      <td>n</td>\n",
              "      <td>v</td>\n",
              "      <td>g</td>\n",
              "    </tr>\n",
              "    <tr>\n",
              "      <th>4755</th>\n",
              "      <td>p</td>\n",
              "      <td>x</td>\n",
              "      <td>y</td>\n",
              "      <td>g</td>\n",
              "      <td>f</td>\n",
              "      <td>f</td>\n",
              "      <td>f</td>\n",
              "      <td>c</td>\n",
              "      <td>b</td>\n",
              "      <td>g</td>\n",
              "      <td>e</td>\n",
              "      <td>b</td>\n",
              "      <td>k</td>\n",
              "      <td>k</td>\n",
              "      <td>b</td>\n",
              "      <td>p</td>\n",
              "      <td>p</td>\n",
              "      <td>w</td>\n",
              "      <td>o</td>\n",
              "      <td>l</td>\n",
              "      <td>h</td>\n",
              "      <td>y</td>\n",
              "      <td>p</td>\n",
              "    </tr>\n",
              "  </tbody>\n",
              "</table>\n",
              "</div>"
            ],
            "text/plain": [
              "     target cap-shape cap-surface  ... spore-print-color population habitat\n",
              "4972      p         x           f  ...                 h          y       p\n",
              "6196      p         x           s  ...                 w          v       d\n",
              "3980      p         f           y  ...                 h          v       g\n",
              "813       p         x           y  ...                 n          v       g\n",
              "4755      p         x           y  ...                 h          y       p\n",
              "\n",
              "[5 rows x 23 columns]"
            ]
          },
          "metadata": {
            "tags": []
          },
          "execution_count": 5
        }
      ]
    },
    {
      "cell_type": "code",
      "metadata": {
        "id": "gQeFDTsV25NE",
        "colab": {
          "base_uri": "https://localhost:8080/",
          "height": 35
        },
        "outputId": "44eed12b-c7d3-44f6-c868-9602b7782ded"
      },
      "source": [
        "\"\"\"... look there is a ? on column stalcj-root 7002, prob way moressss\"\"\""
      ],
      "execution_count": null,
      "outputs": [
        {
          "output_type": "execute_result",
          "data": {
            "application/vnd.google.colaboratory.intrinsic+json": {
              "type": "string"
            },
            "text/plain": [
              "'... look there is a ? on column stalcj-root 7002, prob way moressss'"
            ]
          },
          "metadata": {
            "tags": []
          },
          "execution_count": 7
        }
      ]
    },
    {
      "cell_type": "code",
      "metadata": {
        "id": "Nc816wDUgM7v"
      },
      "source": [
        "df_raw.info()"
      ],
      "execution_count": null,
      "outputs": []
    },
    {
      "cell_type": "code",
      "metadata": {
        "colab": {
          "base_uri": "https://localhost:8080/",
          "height": 659
        },
        "id": "snnT3Y8lbgkN",
        "outputId": "a1bbd70c-a55a-4428-d4a6-ea57e677c8d0"
      },
      "source": [
        "total_missing = df_raw.isnull().sum().sort_values(ascending=False)\n",
        "percent_missing = (df_raw.isnull().sum()/df_raw.isnull().count()).sort_values(ascending=False)\n",
        "missing_data = pd.concat([total_missing, percent_missing], axis=1, keys=['Total', 'Percent'])\n",
        "missing_data.head(20)"
      ],
      "execution_count": null,
      "outputs": [
        {
          "output_type": "execute_result",
          "data": {
            "text/html": [
              "<div>\n",
              "<style scoped>\n",
              "    .dataframe tbody tr th:only-of-type {\n",
              "        vertical-align: middle;\n",
              "    }\n",
              "\n",
              "    .dataframe tbody tr th {\n",
              "        vertical-align: top;\n",
              "    }\n",
              "\n",
              "    .dataframe thead th {\n",
              "        text-align: right;\n",
              "    }\n",
              "</style>\n",
              "<table border=\"1\" class=\"dataframe\">\n",
              "  <thead>\n",
              "    <tr style=\"text-align: right;\">\n",
              "      <th></th>\n",
              "      <th>Total</th>\n",
              "      <th>Percent</th>\n",
              "    </tr>\n",
              "  </thead>\n",
              "  <tbody>\n",
              "    <tr>\n",
              "      <th>habitat</th>\n",
              "      <td>0</td>\n",
              "      <td>0.0</td>\n",
              "    </tr>\n",
              "    <tr>\n",
              "      <th>stalk-shape</th>\n",
              "      <td>0</td>\n",
              "      <td>0.0</td>\n",
              "    </tr>\n",
              "    <tr>\n",
              "      <th>cap-shape</th>\n",
              "      <td>0</td>\n",
              "      <td>0.0</td>\n",
              "    </tr>\n",
              "    <tr>\n",
              "      <th>cap-surface</th>\n",
              "      <td>0</td>\n",
              "      <td>0.0</td>\n",
              "    </tr>\n",
              "    <tr>\n",
              "      <th>cap-color</th>\n",
              "      <td>0</td>\n",
              "      <td>0.0</td>\n",
              "    </tr>\n",
              "    <tr>\n",
              "      <th>bruises</th>\n",
              "      <td>0</td>\n",
              "      <td>0.0</td>\n",
              "    </tr>\n",
              "    <tr>\n",
              "      <th>odor</th>\n",
              "      <td>0</td>\n",
              "      <td>0.0</td>\n",
              "    </tr>\n",
              "    <tr>\n",
              "      <th>gill-attachment</th>\n",
              "      <td>0</td>\n",
              "      <td>0.0</td>\n",
              "    </tr>\n",
              "    <tr>\n",
              "      <th>gill-spacing</th>\n",
              "      <td>0</td>\n",
              "      <td>0.0</td>\n",
              "    </tr>\n",
              "    <tr>\n",
              "      <th>gill-size</th>\n",
              "      <td>0</td>\n",
              "      <td>0.0</td>\n",
              "    </tr>\n",
              "    <tr>\n",
              "      <th>gill-color</th>\n",
              "      <td>0</td>\n",
              "      <td>0.0</td>\n",
              "    </tr>\n",
              "    <tr>\n",
              "      <th>stalk-root</th>\n",
              "      <td>0</td>\n",
              "      <td>0.0</td>\n",
              "    </tr>\n",
              "    <tr>\n",
              "      <th>population</th>\n",
              "      <td>0</td>\n",
              "      <td>0.0</td>\n",
              "    </tr>\n",
              "    <tr>\n",
              "      <th>stalk-surface-above-ring</th>\n",
              "      <td>0</td>\n",
              "      <td>0.0</td>\n",
              "    </tr>\n",
              "    <tr>\n",
              "      <th>stalk-surface-below-ring</th>\n",
              "      <td>0</td>\n",
              "      <td>0.0</td>\n",
              "    </tr>\n",
              "    <tr>\n",
              "      <th>stalk-color-above-ring</th>\n",
              "      <td>0</td>\n",
              "      <td>0.0</td>\n",
              "    </tr>\n",
              "    <tr>\n",
              "      <th>stalk-color-below-ring</th>\n",
              "      <td>0</td>\n",
              "      <td>0.0</td>\n",
              "    </tr>\n",
              "    <tr>\n",
              "      <th>veil_tipo</th>\n",
              "      <td>0</td>\n",
              "      <td>0.0</td>\n",
              "    </tr>\n",
              "    <tr>\n",
              "      <th>veil-color</th>\n",
              "      <td>0</td>\n",
              "      <td>0.0</td>\n",
              "    </tr>\n",
              "    <tr>\n",
              "      <th>ring-number</th>\n",
              "      <td>0</td>\n",
              "      <td>0.0</td>\n",
              "    </tr>\n",
              "  </tbody>\n",
              "</table>\n",
              "</div>"
            ],
            "text/plain": [
              "                          Total  Percent\n",
              "habitat                       0      0.0\n",
              "stalk-shape                   0      0.0\n",
              "cap-shape                     0      0.0\n",
              "cap-surface                   0      0.0\n",
              "cap-color                     0      0.0\n",
              "bruises                       0      0.0\n",
              "odor                          0      0.0\n",
              "gill-attachment               0      0.0\n",
              "gill-spacing                  0      0.0\n",
              "gill-size                     0      0.0\n",
              "gill-color                    0      0.0\n",
              "stalk-root                    0      0.0\n",
              "population                    0      0.0\n",
              "stalk-surface-above-ring      0      0.0\n",
              "stalk-surface-below-ring      0      0.0\n",
              "stalk-color-above-ring        0      0.0\n",
              "stalk-color-below-ring        0      0.0\n",
              "veil_tipo                     0      0.0\n",
              "veil-color                    0      0.0\n",
              "ring-number                   0      0.0"
            ]
          },
          "metadata": {
            "tags": []
          },
          "execution_count": 8
        }
      ]
    },
    {
      "cell_type": "code",
      "metadata": {
        "colab": {
          "base_uri": "https://localhost:8080/"
        },
        "id": "LI_tKhPfKdpb",
        "outputId": "6cf6e750-af64-4d11-97df-de2f3e965d85"
      },
      "source": [
        "# Categories in each feature x, just to have a little better understanding\n",
        "column_list = df_raw.columns.values.tolist()\n",
        "#print(column_list)\n",
        "for column_name in column_list:\n",
        "    print(column_name)\n",
        "    print (len(df_raw[column_name].unique()),'classes')"
      ],
      "execution_count": null,
      "outputs": [
        {
          "output_type": "stream",
          "text": [
            "target\n",
            "2 classes\n",
            "cap-shape\n",
            "6 classes\n",
            "cap-surface\n",
            "4 classes\n",
            "cap-color\n",
            "10 classes\n",
            "bruises\n",
            "2 classes\n",
            "odor\n",
            "9 classes\n",
            "gill-attachment\n",
            "2 classes\n",
            "gill-spacing\n",
            "2 classes\n",
            "gill-size\n",
            "2 classes\n",
            "gill-color\n",
            "12 classes\n",
            "stalk-shape\n",
            "2 classes\n",
            "stalk-root\n",
            "5 classes\n",
            "stalk-surface-above-ring\n",
            "4 classes\n",
            "stalk-surface-below-ring\n",
            "4 classes\n",
            "stalk-color-above-ring\n",
            "9 classes\n",
            "stalk-color-below-ring\n",
            "9 classes\n",
            "veil_tipo\n",
            "1 classes\n",
            "veil-color\n",
            "4 classes\n",
            "ring-number\n",
            "3 classes\n",
            "ring-type\n",
            "5 classes\n",
            "spore-print-color\n",
            "9 classes\n",
            "population\n",
            "6 classes\n",
            "habitat\n",
            "7 classes\n"
          ],
          "name": "stdout"
        }
      ]
    },
    {
      "cell_type": "code",
      "metadata": {
        "id": "inrgeu_L1Xlg"
      },
      "source": [
        "\"\"\"veil_tipo\n",
        "1 classes\"\" suspicious...\"\"\"\n",
        "\n",
        "print(df_raw['veil_tipo'].unique())\n",
        "print(len(df_raw['veil_tipo']))"
      ],
      "execution_count": null,
      "outputs": []
    },
    {
      "cell_type": "code",
      "metadata": {
        "id": "Smwx4heq1Xb6"
      },
      "source": [
        "# we may drop 'veil_tipo' as may not be helpful, depending of corelation\n",
        "#df_raw.drop('veil_tipo', axis=1)"
      ],
      "execution_count": null,
      "outputs": []
    },
    {
      "cell_type": "markdown",
      "metadata": {
        "id": "2wg45bwwypSd"
      },
      "source": [
        "Here, we are creating a panda df to have a little bit of a better clarification\n",
        "of the classification per column."
      ]
    },
    {
      "cell_type": "code",
      "metadata": {
        "id": "Mdk3fmI6yhsd"
      },
      "source": [
        "columnas_classes = {\n",
        "'target': ['poisonous', 'eatable'], \n",
        "'cap-shape': ['bell', 'conical', 'convex','flat', 'knobbed','sunken'],\n",
        "'cap-surface': ['fibrous', 'grooves', 'scaly','smooth'],\n",
        "'cap-color': ['brown', 'buff', 'cinnamon', 'gray', 'green', 'pink', 'purple', 'red', 'white', 'yellow'],\n",
        "'Bruises': ['bruises', 'no'],\n",
        "'odor': ['almond', 'anise', 'creosote', 'fishy', 'foul', 'musty', 'none', 'pungent', 'spicy'],\n",
        "'gill-attachment': ['attached', 'descending', 'free', 'notched'],\n",
        "'gill-spacing': ['close', 'rowded', 'distant'],\n",
        "'gill-size': ['broad', 'narrow'],\n",
        "'gill-color': ['black', 'brown', 'buff', 'chocolate','gray', 'green', 'orange', 'pink', 'purple', 'red', 'white', 'yellow'],\n",
        "'stalk-shape': ['enlarging', 'tapering'],\n",
        "'stalk-root': ['bulbous', 'club', 'cup', 'equal', 'rhizomorphs', 'rooted', 'missing'],\n",
        "'stalk-surface-above-ring': ['fibrous', 'scaly', 'silky', 'smooth'],\n",
        "'stalk-surface-below-ring': ['fibrous', 'scaly', 'silky', 'smooth'],\n",
        "'stalk-color-above-ring': ['brown', 'buff', 'cinnamon', 'gray', 'orange', 'pink', 'red', 'white', 'yellow'],\n",
        "'stalk-color-below-ring': ['brown', 'buff', 'cinnamon', 'gray', 'orange', 'pink', 'red', 'white', 'yellow'],\n",
        "'veil-color': ['brown', 'orange', 'white', 'yellow'],\n",
        "'ring-number': ['none', 'one', 'two'],\n",
        "'ring-tipo': ['cobwebby', 'evanescent', 'flaring', 'large', 'none', 'pendant', 'sheathing, zone'],\n",
        "'spore-print-color': ['black', 'brown', 'buff', 'chocolate', 'green', 'orange', 'purple', 'white', 'yellow'],\n",
        "'population': ['abundant', 'clustered', 'numerous', 'scattered', 'several', 'solitary'],\n",
        "'habitat': ['grasses', 'leaves', 'meadows', 'paths', 'urban', 'waste', 'woods'],\n",
        "}\n",
        "\n",
        "cclasses=pd.DataFrame(dict([ (k,pd.Series(v)) for k,v in columnas_classes.items() ]))\n",
        "cclasses.head(7)"
      ],
      "execution_count": null,
      "outputs": []
    },
    {
      "cell_type": "markdown",
      "metadata": {
        "id": "MjM68WqinRCS"
      },
      "source": [
        "The figure, exemplifying how the relationship between not recommended to eat\n",
        "and edible as the whole data set and folowed by the relationship of not recommended to eat and edible by columns, and class of the specific column\n",
        "\n",
        "\n",
        "\n"
      ]
    },
    {
      "cell_type": "code",
      "metadata": {
        "id": "PkHPVWLFmpKw"
      },
      "source": [
        "colors = ('#ed872d','#800020')\n",
        "palette = sns.set_palette(sns.color_palette(colors))\n",
        "\n",
        "f, ax = plt.subplots(figsize=(15, 10))\n",
        "labels = (('Not recommended for comsumption','Edible'))\n",
        "df_raw['target'].value_counts().plot.pie(labels= labels, shadow= True, ax= ax, autopct='%1.1f%%', colors= colors,textprops={'fontsize': 12} )\n",
        "\n",
        "ax.set_title('Mushroom Class Distribution', fontsize = 15);\n",
        "\n",
        "\n",
        "features = df_raw.columns\n",
        "f, axes = plt.subplots(22,1, figsize=(15,150), sharey = True) \n",
        "k = 1\n",
        "for i in range(0,22):\n",
        "    s = sns.countplot(x = features[k], data = df_raw, hue = 'target', ax=axes[i], palette = 'CMRmap')\n",
        "    axes[i].set_xlabel(features[k], fontsize=20)\n",
        "    axes[i].set_ylabel(\"Count\", fontsize=20)\n",
        "    axes[i].tick_params(labelsize=15)\n",
        "    axes[i].legend(loc=2, prop={'size': 20})\n",
        "    k = k+1\n",
        "    for p in s.patches:\n",
        "        s.annotate(format(p.get_height(), '.1f'), \n",
        "        (p.get_x() + p.get_width() / 2., p.get_height()), \n",
        "        ha = 'center', va = 'center', \n",
        "        xytext = (0, 9), \n",
        "        fontsize = 15,\n",
        "        textcoords = 'offset points')"
      ],
      "execution_count": null,
      "outputs": []
    },
    {
      "cell_type": "code",
      "metadata": {
        "id": "yJX0PPgLzrGb"
      },
      "source": [
        "# encoding so we can manage the instances properly\n",
        "\n",
        "labelencoder=LabelEncoder()\n",
        "for col in df_raw.columns:\n",
        "    df_raw[col] = labelencoder.fit_transform(df_raw[col])\n",
        "\n",
        "df_raw.head()\n"
      ],
      "execution_count": null,
      "outputs": []
    },
    {
      "cell_type": "markdown",
      "metadata": {
        "id": "gmI1RD2k0n0_"
      },
      "source": [
        "Lets look into the correlation between the target variable and the rest of the columns\n"
      ]
    },
    {
      "cell_type": "code",
      "metadata": {
        "id": "TUCYwCLQzrBZ"
      },
      "source": [
        "np.abs(df_raw.corr().loc['target']).sort_values(ascending=False)"
      ],
      "execution_count": null,
      "outputs": []
    },
    {
      "cell_type": "code",
      "metadata": {
        "id": "iAIGrHiA04eJ"
      },
      "source": [
        "### dropping 'veil_tipo' as may not be helpful, as coorelation was NaN\n",
        "df = df_raw.drop('veil_tipo', axis=1)"
      ],
      "execution_count": null,
      "outputs": []
    },
    {
      "cell_type": "markdown",
      "metadata": {
        "id": "QswZh2OE5ubQ"
      },
      "source": [
        "Here showing the correlations."
      ]
    },
    {
      "cell_type": "code",
      "metadata": {
        "id": "eeIC7vq730G-"
      },
      "source": [
        "mush_coore = df.corr()\n",
        "\n",
        "# a quick visual read on a big correlation matrix.\n",
        "\n",
        "plt.figure(figsize=(28,15))\n",
        "\n",
        "plt.subplot(1,2,1)\n",
        "# Draw the heat map using seaborn\n",
        "sns.heatmap(mush_coore, square=True, annot=True, linewidths=.5)\n",
        "plt.title(\"correlation matrix (Mushroomsm Target, vs Columns)\")\n",
        "\n",
        "plt.show()"
      ],
      "execution_count": null,
      "outputs": []
    },
    {
      "cell_type": "markdown",
      "metadata": {
        "id": "TgBq7cElodrV"
      },
      "source": [
        "**FROM HERE ON WE WILL FOCUS ON STATISTICAL MODELS**"
      ]
    },
    {
      "cell_type": "code",
      "metadata": {
        "id": "OnLLvkydNrga"
      },
      "source": [
        "df.columns"
      ],
      "execution_count": null,
      "outputs": []
    },
    {
      "cell_type": "code",
      "metadata": {
        "id": "Q3R0GyO7NRAl"
      },
      "source": [
        "#dividing samples and formating\n",
        "# splitting in 2 parts\n",
        "X = df.drop('target', axis='columns').copy()# the columns of data that we will use to make classification\n",
        "y = df['target'].copy()# the column of the data that we want to predict"
      ],
      "execution_count": null,
      "outputs": []
    },
    {
      "cell_type": "code",
      "metadata": {
        "id": "carQ8NXuhXuS"
      },
      "source": [
        "X.head()"
      ],
      "execution_count": null,
      "outputs": []
    },
    {
      "cell_type": "code",
      "metadata": {
        "id": "O_d8YoNUhdiq"
      },
      "source": [
        "y.head()"
      ],
      "execution_count": null,
      "outputs": []
    },
    {
      "cell_type": "code",
      "metadata": {
        "id": "z3YJEeIBP7sn"
      },
      "source": [
        "print(X.shape)\n",
        "print(y.shape)"
      ],
      "execution_count": null,
      "outputs": []
    },
    {
      "cell_type": "markdown",
      "metadata": {
        "id": "t3yduA46E_yB"
      },
      "source": [
        "# FORMATING THE DATA FOR SVM    \n",
        "the radial basis function(rbf) that we are using with our \n",
        "SVM Assumes that the data is centered and scaled.\n",
        "COLUMNS SHOULD HAVE A MEAN VALUE OF 0\n",
        "STANDARD DEVIATION OF 1\n",
        "WE NEED TO DO THIS TO BOTH TESTING AND TRAINING DATA\n",
        "\n",
        "# .NOTE.\n",
        "WE SPLIT THE DATA INTO TESTING AND TRAINING DATA SET AND THEN\n",
        "SCALE THEM SEPARATELY TO AVOID DATA LEAKAGE, DATA LEAKAGE OCCURS WHEN\n",
        "INFORMATION ABOUT THE TRAINING DATA SET CORRUPTS THE TESTING DATA SET\n"
      ]
    },
    {
      "cell_type": "code",
      "metadata": {
        "id": "Wk_tK_wUEkdP"
      },
      "source": [
        "X_train, X_test, y_train, y_test = train_test_split(X, y, random_state=42)\n",
        "X_train_scaled = scale(X_train)\n",
        "X_test_scaled = scale(X_test)"
      ],
      "execution_count": null,
      "outputs": []
    },
    {
      "cell_type": "code",
      "metadata": {
        "id": "jHyi1hAhF0Cp"
      },
      "source": [
        "np.unique(y)"
      ],
      "execution_count": null,
      "outputs": []
    },
    {
      "cell_type": "markdown",
      "metadata": {
        "id": "OjPmghOcQE_y"
      },
      "source": [
        "# Building the preliminary Model\n"
      ]
    },
    {
      "cell_type": "code",
      "metadata": {
        "id": "fCczBhrMIKE0"
      },
      "source": [
        "# Create a classifier: a support vector classifier\n",
        "# C=1.0, kernel='rbf', degree=3, gamma='scale', coef0=0.0, shrinking=True, \n",
        "# probability=False, tol=0.001, cache_size=200, class_weight=None, \n",
        "# verbose=False, max_iter=-1, decision_function_shape='ovr', \n",
        "# break_ties=False, random_state=None)\n",
        "\n",
        "clf_svm = SVC(C=0.01, random_state=42)# support vector classifier, create a shell\n",
        "clf_svm.fit(X_train_scaled, y_train)\n"
      ],
      "execution_count": null,
      "outputs": []
    },
    {
      "cell_type": "code",
      "metadata": {
        "id": "bae15Hn-HuTU"
      },
      "source": [
        "# Predicting the test set\n",
        "y_pred = clf_svm.predict(X_test_scaled)"
      ],
      "execution_count": null,
      "outputs": []
    },
    {
      "cell_type": "code",
      "metadata": {
        "id": "hzEBVcxbH9g2"
      },
      "source": [
        "\n",
        "ac = accuracy_score(y_test, y_pred)\n",
        "\n",
        "print(ac)"
      ],
      "execution_count": null,
      "outputs": []
    },
    {
      "cell_type": "markdown",
      "metadata": {
        "id": "jkLA2XHY6mzq"
      },
      "source": [
        "\n",
        "Here we are trying to optimize the model adjusting hyperparameters to specifics to itself. We will use one tool called Grid Search, even though there is some other ways to do this, grid search its very friendly."
      ]
    },
    {
      "cell_type": "code",
      "metadata": {
        "id": "egsVzC-FQSro"
      },
      "source": [
        "param_grid= [\n",
        "             {'C':[0.5, 1, 10, 100], ## C has to be mayor que cero\n",
        "              'gamma': ['scale', 1, 0.1, 0.001, 0.0001],\n",
        "              'kernel':['rbf']},\n",
        "]\n",
        "## we also using by default all the default values :)\n",
        "\n",
        "optimal_params = GridSearchCV(\n",
        "        SVC(), \n",
        "        param_grid, \n",
        "        cv=5, \n",
        "        scoring='accuracy', \n",
        "         #scoring='balance_accurancy' \n",
        "         #scoring='f1'\n",
        "         #scoring='f1_micro'\n",
        "         #scoring='f1_macro'\n",
        "         #scoring='f1_weighted'\n",
        "         #scorin='roc_auc'\n",
        "         #...\n",
        "         verbose=0 # set it to 2 to see whats up\n",
        ") \n",
        "optimal_params.fit(X_train, y_train)\n",
        "print(optimal_params.best_params_)"
      ],
      "execution_count": null,
      "outputs": []
    },
    {
      "cell_type": "markdown",
      "metadata": {
        "id": "YPiBz3IxSotO"
      },
      "source": [
        "Here the optimal Hyperparameters from the previous selection.\n",
        "# {'C': 10, 'gamma': 0.1, 'kernel': 'rbf'}"
      ]
    },
    {
      "cell_type": "markdown",
      "metadata": {
        "id": "nKVL-StXUBFS"
      },
      "source": [
        "and trying the optimal parameters in the SVC clf model"
      ]
    },
    {
      "cell_type": "code",
      "metadata": {
        "id": "qk2veZR7SIUK"
      },
      "source": [
        "clf_svm = SVC(random_state=42, C=0.25, gamma=0.1, kernel= 'rbf')# support vector classifier, create a shell\n",
        "clf_svm.fit(X_train, y_train)\n"
      ],
      "execution_count": null,
      "outputs": []
    },
    {
      "cell_type": "code",
      "metadata": {
        "id": "W1jStTFVrMla"
      },
      "source": [
        "clf_svm.score(X_test, y_test)"
      ],
      "execution_count": null,
      "outputs": []
    },
    {
      "cell_type": "markdown",
      "metadata": {
        "id": "vPfUPD4-w7_Q"
      },
      "source": [
        "# Evaluation of model: Confusion matrix plot"
      ]
    },
    {
      "cell_type": "code",
      "metadata": {
        "id": "CDOI-ZENwtoI"
      },
      "source": [
        "def plot_confusion_matrix(cm, classes,normalize,\n",
        "                          title='Confusion matrix',\n",
        "                          cmap=plt.cm.Blues):\n",
        "    \"\"\"\n",
        "    This function prints and plots the confusion matrix.\n",
        "    Normalization can be applied by setting `normalize=True`.\n",
        "    \"\"\"\n",
        "    if normalize:\n",
        "        cm = cm.astype('float') / cm.sum(axis=1)[:, np.newaxis]\n",
        "        print(\"Normalized confusion matrix\")\n",
        "    else:\n",
        "        print('Confusion matrix, without normalization')\n",
        "\n",
        "    plt.imshow(cm, interpolation='nearest', cmap=cmap)\n",
        "    plt.title(title)\n",
        "    plt.colorbar()\n",
        "    tick_marks = np.arange(len(classes))\n",
        "    plt.xticks(tick_marks, classes)\n",
        "    plt.yticks(tick_marks, classes)\n",
        "    fmt = '.2f' if normalize else 'd'\n",
        "    thresh = cm.max() / 2.\n",
        "    for i, j in itertools.product(range(cm.shape[0]), range(cm.shape[1])):\n",
        "        plt.text(j, i, format(cm[i, j], fmt),\n",
        "                 horizontalalignment=\"center\", verticalalignment=\"center\",\n",
        "                 color=\"white\" if cm[i, j] > thresh else \"black\")\n",
        "    plt.ylabel('True label')\n",
        "    plt.xlabel('Predicted label')"
      ],
      "execution_count": null,
      "outputs": []
    },
    {
      "cell_type": "code",
      "metadata": {
        "id": "sDVG2FXlwthX"
      },
      "source": [
        "cm = confusion_matrix(y_test, y_pred)\n",
        "plot_confusion_matrix(cm,[0,1],False)"
      ],
      "execution_count": null,
      "outputs": []
    },
    {
      "cell_type": "code",
      "metadata": {
        "id": "NU2NZ8dUUdZR"
      },
      "source": [
        "##########################################################################################################\r\n",
        "\"\"\"\r\n",
        "NOT A GREAT IDEA TO USE PCA HERE NORMALLY WE USE it for dimensionalitty reduccion.\r\n",
        "\r\n",
        "keep it in mind\"\"\""
      ],
      "execution_count": null,
      "outputs": []
    },
    {
      "cell_type": "code",
      "metadata": {
        "id": "Wh20Qtpq9toW"
      },
      "source": [
        "# Compute a PCA on the data set to reduce dimensionality\n",
        "\n",
        "n_components = 5\n",
        "\n",
        "print(\"Extracting the top %d Columns from %d the data frame\"\n",
        "      % (n_components, X_train.shape[0]))\n",
        "t0 = time()\n",
        "pca = PCA(n_components=n_components, svd_solver='randomized',\n",
        "          whiten=True).fit(X_train)\n",
        "print(\"done in %0.3fs\" % (time() - t0))\n",
        "\n",
        "X_train_pca = pca.transform(X_train)\n",
        "X_test_pca = pca.transform(X_test)\n"
      ],
      "execution_count": null,
      "outputs": []
    },
    {
      "cell_type": "code",
      "metadata": {
        "id": "Go4hCuVnCRHq"
      },
      "source": [
        "# a visual of the principal components\n",
        "per_var = np.round(pca.explained_variance_ratio_*100, decimals=1)\n",
        "labesl = [str(x) for x in range(1, len(per_var)+1)]\n",
        "\n",
        "plt.bar(x=range(1,len(per_var)+1), height=per_var)\n",
        "plt.tick_params(\n",
        "    axis='x',\n",
        "    which='both',\n",
        "    bottom=False, \n",
        "    labelbottom=False)\n",
        "plt.ylabel('percentaje of explained variance')\n",
        "plt.xlabel('principal components')\n",
        "plt.title('scree plot')\n",
        "plt.show()"
      ],
      "execution_count": null,
      "outputs": []
    },
    {
      "cell_type": "code",
      "metadata": {
        "id": "AjZPNVxJEltz"
      },
      "source": [
        "trainpc1 = X_train_pca[:, 0] # contains all cordenadas of X\n",
        "trainpc2 = X_train_pca[:, 1] # y :)\n",
        "\n",
        "pca_train_scaler = scale(np.column_stack((trainpc1, trainpc2)))"
      ],
      "execution_count": null,
      "outputs": []
    },
    {
      "cell_type": "code",
      "metadata": {
        "id": "VEbB2hOMCciU"
      },
      "source": [
        "# Train a SVM classification model\n",
        "\n",
        "print(\"Fitting the classifier to the training set\")\n",
        "t0 = time()\n",
        "param_grid = {'C': [1e3, 1e4, 1e5],\n",
        "              'gamma': [0.0001, 0.001, 0.1], }\n",
        "clf = GridSearchCV(\n",
        "    SVC(kernel='rbf', class_weight='balanced'), param_grid\n",
        ")\n",
        "clf = clf.fit(X_train_pca, y_train)\n",
        "print(\"done in %0.3fs\" % (time() - t0))\n",
        "print(\"Best estimator found by grid search:\")\n",
        "print(clf.best_estimator_)"
      ],
      "execution_count": null,
      "outputs": []
    },
    {
      "cell_type": "code",
      "metadata": {
        "id": "w8mkHK57aYOi"
      },
      "source": [
        "###### new best after pca parameters for SVC\n",
        "\n",
        "clf_svm = SVC(C=1000.0, \n",
        "              break_ties=False, \n",
        "              cache_size=200, \n",
        "              class_weight='balanced',\n",
        "              coef0=0.0, \n",
        "              decision_function_shape='ovr', \n",
        "              degree=3, \n",
        "              gamma=0.001,\n",
        "              kernel='rbf', \n",
        "              max_iter=-1, \n",
        "              probability=False, \n",
        "              random_state=None,\n",
        "              shrinking=True, \n",
        "              tol=0.001, \n",
        "              verbose=False)\n",
        "clf_svm.fit(X_train_pca, y_train)\n",
        "\n"
      ],
      "execution_count": null,
      "outputs": []
    },
    {
      "cell_type": "code",
      "metadata": {
        "id": "sqGKr7eKI8lz"
      },
      "source": [
        "\n",
        "ac = accuracy_score(y_test, y_pred)\n",
        "print(ac)"
      ],
      "execution_count": null,
      "outputs": []
    },
    {
      "cell_type": "code",
      "metadata": {
        "id": "q26HD-t58xux"
      },
      "source": [
        "##################################################################################################"
      ],
      "execution_count": null,
      "outputs": []
    },
    {
      "cell_type": "markdown",
      "metadata": {
        "id": "fnb-W3YN9mJc"
      },
      "source": [
        "# Random Forest"
      ]
    },
    {
      "cell_type": "code",
      "metadata": {
        "id": "52iJOBRg-CUy"
      },
      "source": [
        "from sklearn.ensemble import RandomForestClassifier"
      ],
      "execution_count": null,
      "outputs": []
    },
    {
      "cell_type": "code",
      "metadata": {
        "id": "Ck2MPjQU-sSv"
      },
      "source": [
        "X_train, X_test, y_train, y_test = train_test_split(X, y, random_state=42)"
      ],
      "execution_count": null,
      "outputs": []
    },
    {
      "cell_type": "code",
      "metadata": {
        "id": "DTHQB6MT91ro"
      },
      "source": [
        "# defining the initial model\n",
        "model = RandomForestClassifier(max_depth=2, random_state=42)\n",
        "model.fit(X, y)\n"
      ],
      "execution_count": null,
      "outputs": []
    },
    {
      "cell_type": "code",
      "metadata": {
        "id": "tF967kgp_aAI"
      },
      "source": [
        "model.score(X_test, y_test)"
      ],
      "execution_count": null,
      "outputs": []
    },
    {
      "cell_type": "code",
      "metadata": {
        "id": "_XLhyYQd_eLm"
      },
      "source": [
        "### optimization"
      ],
      "execution_count": null,
      "outputs": []
    },
    {
      "cell_type": "code",
      "metadata": {
        "id": "fxpURUmc_gii"
      },
      "source": [
        "param_grid = { \n",
        "    'n_estimators': [200, 500],\n",
        "    'max_features': ['auto', 'sqrt', 'log2'],\n",
        "    'max_depth' : [4,5,6,7,8],\n",
        "    'criterion' :['gini', 'entropy']\n",
        "}\n",
        "\n",
        "CV_rfc = GridSearchCV(estimator=model, param_grid=param_grid, cv= 5)\n",
        "CV_rfc.fit(X_train, y_train)"
      ],
      "execution_count": null,
      "outputs": []
    },
    {
      "cell_type": "code",
      "metadata": {
        "id": "B8I2flF3_kxD"
      },
      "source": [
        "CV_rfc.best_params_"
      ],
      "execution_count": null,
      "outputs": []
    },
    {
      "cell_type": "code",
      "metadata": {
        "id": "B-jNwW9yFDDd"
      },
      "source": [
        ""
      ],
      "execution_count": null,
      "outputs": []
    },
    {
      "cell_type": "code",
      "metadata": {
        "id": "Ift2ctHU_nXZ"
      },
      "source": [
        "param_grid = { \n",
        "    'n_estimators': [200],\n",
        "    'max_features': ['auto'],\n",
        "    'max_depth' : [8],\n",
        "    'criterion' :['gini']\n",
        "}\n",
        "\n",
        "CV_rfc = GridSearchCV(estimator=model, param_grid=param_grid, cv= 5)\n",
        "CV_rfc.fit(X_train, y_train)"
      ],
      "execution_count": null,
      "outputs": []
    },
    {
      "cell_type": "code",
      "metadata": {
        "id": "8Yv0sH1lAKJS"
      },
      "source": [
        "model.score(X_test, y_test)"
      ],
      "execution_count": null,
      "outputs": []
    }
  ]
}